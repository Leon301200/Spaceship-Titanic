{
 "cells": [
  {
   "metadata": {},
   "cell_type": "markdown",
   "source": "# Import",
   "id": "d87cca30776cab4c"
  },
  {
   "cell_type": "code",
   "id": "initial_id",
   "metadata": {
    "collapsed": true,
    "ExecuteTime": {
     "end_time": "2024-04-18T00:00:16.189873Z",
     "start_time": "2024-04-18T00:00:16.187832Z"
    }
   },
   "source": [
    "import pandas as pd\n",
    "from sklearn.preprocessing import LabelEncoder\n",
    "from sklearn.model_selection import train_test_split\n",
    "from sklearn.linear_model import LogisticRegression\n",
    "from sklearn.metrics import accuracy_score, confusion_matrix\n",
    "import seaborn as sns\n",
    "import matplotlib.pyplot as plt"
   ],
   "outputs": [],
   "execution_count": 189
  },
  {
   "metadata": {},
   "cell_type": "markdown",
   "source": "# Chargement de la données",
   "id": "1a8980bf110a3921"
  },
  {
   "metadata": {
    "ExecuteTime": {
     "end_time": "2024-04-18T00:00:16.228600Z",
     "start_time": "2024-04-18T00:00:16.216161Z"
    }
   },
   "cell_type": "code",
   "source": [
    "chemin_fichier = \"spaceship-titanic/train.csv\"\n",
    "df = pd.read_csv(chemin_fichier)\n",
    "# print(df.head())"
   ],
   "id": "3dcd2b2603e71e4c",
   "outputs": [],
   "execution_count": 190
  },
  {
   "metadata": {},
   "cell_type": "markdown",
   "source": "# Transformation de la données",
   "id": "680a262391717207"
  },
  {
   "metadata": {
    "ExecuteTime": {
     "end_time": "2024-04-18T00:00:16.233197Z",
     "start_time": "2024-04-18T00:00:16.229633Z"
    }
   },
   "cell_type": "code",
   "source": [
    "# Remplir les valeurs manquantes par la médiane pour les colonnes numériques\n",
    "for column in ['Age', 'RoomService', 'FoodCourt', 'ShoppingMall', 'Spa', 'VRDeck']:\n",
    "    median_value = df[column].median()\n",
    "    df[column] = df[column].fillna(median_value)"
   ],
   "id": "4a657f9cc6d62015",
   "outputs": [],
   "execution_count": 191
  },
  {
   "metadata": {
    "ExecuteTime": {
     "end_time": "2024-04-18T00:00:16.240142Z",
     "start_time": "2024-04-18T00:00:16.233824Z"
    }
   },
   "cell_type": "code",
   "source": [
    "# Passenger_ID, séparation de la variable en deux variables Groupe_Numero\n",
    "df[['Groupe', 'Numero']] = df['PassengerId'].str.split('_', expand=True)\n",
    "df.drop('PassengerId', axis=1, inplace=True)\n",
    "# print(df.head())"
   ],
   "id": "6b2d4ce4993b357a",
   "outputs": [],
   "execution_count": 192
  },
  {
   "metadata": {
    "ExecuteTime": {
     "end_time": "2024-04-18T00:00:16.244863Z",
     "start_time": "2024-04-18T00:00:16.241189Z"
    }
   },
   "cell_type": "code",
   "source": [
    "# HomePlanet, OneHotEncoding\n",
    "df = pd.get_dummies(df, columns=['HomePlanet'])\n",
    "# print(df.head())"
   ],
   "id": "f5490f91e764788c",
   "outputs": [],
   "execution_count": 193
  },
  {
   "metadata": {
    "ExecuteTime": {
     "end_time": "2024-04-18T00:00:16.252176Z",
     "start_time": "2024-04-18T00:00:16.245435Z"
    }
   },
   "cell_type": "code",
   "source": [
    "# Cabin,  séparation de la variable en trois champs : pont/num/côté\n",
    "df[['Pont', 'Num', 'Cote']] = df['Cabin'].str.split('/', expand=True)\n",
    "df.drop('Cabin', axis=1, inplace=True)\n",
    "# print(df.head())"
   ],
   "id": "f261a7a6f8369c77",
   "outputs": [],
   "execution_count": 194
  },
  {
   "metadata": {
    "ExecuteTime": {
     "end_time": "2024-04-18T00:00:16.257187Z",
     "start_time": "2024-04-18T00:00:16.252760Z"
    }
   },
   "cell_type": "code",
   "source": [
    "# Destination, OneHotEncoding\n",
    "df = pd.get_dummies(df, columns=['Destination'])\n",
    "# print(df.head())"
   ],
   "id": "b8bc88fb06e3dc8a",
   "outputs": [],
   "execution_count": 195
  },
  {
   "metadata": {
    "ExecuteTime": {
     "end_time": "2024-04-18T00:00:16.262680Z",
     "start_time": "2024-04-18T00:00:16.257805Z"
    }
   },
   "cell_type": "code",
   "source": [
    "#Suppression de la colonne Name\n",
    "df.drop('Name', axis=1, inplace=True)\n",
    "print(df.head())"
   ],
   "id": "bb308029b4d7434c",
   "outputs": [
    {
     "name": "stdout",
     "output_type": "stream",
     "text": [
      "  CryoSleep   Age    VIP  RoomService  FoodCourt  ShoppingMall     Spa  \\\n",
      "0     False  39.0  False          0.0        0.0           0.0     0.0   \n",
      "1     False  24.0  False        109.0        9.0          25.0   549.0   \n",
      "2     False  58.0   True         43.0     3576.0           0.0  6715.0   \n",
      "3     False  33.0  False          0.0     1283.0         371.0  3329.0   \n",
      "4     False  16.0  False        303.0       70.0         151.0   565.0   \n",
      "\n",
      "   VRDeck  Transported Groupe Numero  HomePlanet_Earth  HomePlanet_Europa  \\\n",
      "0     0.0        False   0001     01             False               True   \n",
      "1    44.0         True   0002     01              True              False   \n",
      "2    49.0        False   0003     01             False               True   \n",
      "3   193.0        False   0003     02             False               True   \n",
      "4     2.0         True   0004     01              True              False   \n",
      "\n",
      "   HomePlanet_Mars Pont Num Cote  Destination_55 Cancri e  \\\n",
      "0            False    B   0    P                    False   \n",
      "1            False    F   0    S                    False   \n",
      "2            False    A   0    S                    False   \n",
      "3            False    A   0    S                    False   \n",
      "4            False    F   1    S                    False   \n",
      "\n",
      "   Destination_PSO J318.5-22  Destination_TRAPPIST-1e  \n",
      "0                      False                     True  \n",
      "1                      False                     True  \n",
      "2                      False                     True  \n",
      "3                      False                     True  \n",
      "4                      False                     True  \n"
     ]
    }
   ],
   "execution_count": 196
  },
  {
   "metadata": {},
   "cell_type": "markdown",
   "source": "## Conversion des types",
   "id": "30ef0c22ed41228c"
  },
  {
   "metadata": {
    "ExecuteTime": {
     "end_time": "2024-04-18T00:00:16.276400Z",
     "start_time": "2024-04-18T00:00:16.263436Z"
    }
   },
   "cell_type": "code",
   "source": [
    "df['CryoSleep'].astype(bool)\n",
    "df['Age'].astype(int)\n",
    "df['VIP'].astype(bool)\n",
    "df['RoomService'].astype(int)\n",
    "df['FoodCourt'].astype(int)\n",
    "df['ShoppingMall'].astype(int)\n",
    "df['Spa'].astype(int)\n",
    "df['VRDeck'].astype(int)\n",
    "df['Transported'].astype(bool)\n",
    "df['Groupe'] = pd.to_numeric(df['Groupe'], errors='coerce')\n",
    "df['Numero'] = pd.to_numeric(df['Numero'], errors='coerce')\n",
    "df['HomePlanet_Earth'].astype(bool)\n",
    "df['HomePlanet_Europa'].astype(bool)\n",
    "df['HomePlanet_Mars'].astype(bool)\n",
    "df['Num'] = pd.to_numeric(df['Num'], errors='coerce')\n",
    "df['Destination_55 Cancri e'].astype(bool)\n",
    "df['Destination_PSO J318.5-22'].astype(bool)\n",
    "df['Destination_TRAPPIST-1e'].astype(bool)\n",
    "\n",
    "# LabelEncoding : Vient attribuer un nombre unique a chaque catgeorie\n",
    "# Création de l'encodeur\n",
    "label_encoder = LabelEncoder()\n",
    "# Fit et transform\n",
    "df['Pont'] = label_encoder.fit_transform(df['Pont'])\n",
    "df['Cote'] = label_encoder.fit_transform(df['Cote'])\n",
    "\n",
    "#Affichage \n",
    "print(df.head())"
   ],
   "id": "5dbc414f1b4b6867",
   "outputs": [
    {
     "name": "stdout",
     "output_type": "stream",
     "text": [
      "  CryoSleep   Age    VIP  RoomService  FoodCourt  ShoppingMall     Spa  \\\n",
      "0     False  39.0  False          0.0        0.0           0.0     0.0   \n",
      "1     False  24.0  False        109.0        9.0          25.0   549.0   \n",
      "2     False  58.0   True         43.0     3576.0           0.0  6715.0   \n",
      "3     False  33.0  False          0.0     1283.0         371.0  3329.0   \n",
      "4     False  16.0  False        303.0       70.0         151.0   565.0   \n",
      "\n",
      "   VRDeck  Transported  Groupe  Numero  HomePlanet_Earth  HomePlanet_Europa  \\\n",
      "0     0.0        False       1       1             False               True   \n",
      "1    44.0         True       2       1              True              False   \n",
      "2    49.0        False       3       1             False               True   \n",
      "3   193.0        False       3       2             False               True   \n",
      "4     2.0         True       4       1              True              False   \n",
      "\n",
      "   HomePlanet_Mars  Pont  Num  Cote  Destination_55 Cancri e  \\\n",
      "0            False     1  0.0     0                    False   \n",
      "1            False     5  0.0     1                    False   \n",
      "2            False     0  0.0     1                    False   \n",
      "3            False     0  0.0     1                    False   \n",
      "4            False     5  1.0     1                    False   \n",
      "\n",
      "   Destination_PSO J318.5-22  Destination_TRAPPIST-1e  \n",
      "0                      False                     True  \n",
      "1                      False                     True  \n",
      "2                      False                     True  \n",
      "3                      False                     True  \n",
      "4                      False                     True  \n"
     ]
    }
   ],
   "execution_count": 197
  },
  {
   "metadata": {
    "ExecuteTime": {
     "end_time": "2024-04-18T00:00:16.300911Z",
     "start_time": "2024-04-18T00:00:16.277036Z"
    }
   },
   "cell_type": "code",
   "source": [
    "# Enregistrement du DataSet dans un csv\n",
    "try:\n",
    "    df.to_csv('spaceship-titanic/dataset.csv', index=False)\n",
    "    print(\"Fichier enregistré avec succès.\")\n",
    "except Exception as e:\n",
    "    print(f\"Erreur lors de l'enregistrement du fichier : {e}\")"
   ],
   "id": "2ab76704369ba9b3",
   "outputs": [
    {
     "name": "stdout",
     "output_type": "stream",
     "text": [
      "Fichier enregistré avec succès.\n"
     ]
    }
   ],
   "execution_count": 198
  },
  {
   "metadata": {
    "ExecuteTime": {
     "end_time": "2024-04-18T00:00:16.305987Z",
     "start_time": "2024-04-18T00:00:16.302853Z"
    }
   },
   "cell_type": "code",
   "source": [
    "# Compter le nombre total de lignes\n",
    "total_rows = len(df)\n",
    "print(\"Nombre total de lignes:\", total_rows)\n",
    "\n",
    "# Compter les lignes contenant au moins une valeur manquante\n",
    "rows_with_na = df.isnull().any(axis=1).sum()\n",
    "print(\"Nombre de lignes avec au moins une valeur manquante:\", rows_with_na)"
   ],
   "id": "1cabb5892dc039a9",
   "outputs": [
    {
     "name": "stdout",
     "output_type": "stream",
     "text": [
      "Nombre total de lignes: 8693\n",
      "Nombre de lignes avec au moins une valeur manquante: 599\n"
     ]
    }
   ],
   "execution_count": 199
  },
  {
   "metadata": {
    "ExecuteTime": {
     "end_time": "2024-04-18T00:00:16.311893Z",
     "start_time": "2024-04-18T00:00:16.306653Z"
    }
   },
   "cell_type": "code",
   "source": [
    "# Calcul du nombre de valeurs manquantes par colonne\n",
    "missing_values_count = df.isnull().sum()\n",
    "\n",
    "# Afficher les colonnes avec le nombre de valeurs manquantes\n",
    "print(\"Nombre de valeurs manquantes par colonne:\")\n",
    "print(missing_values_count)\n",
    "\n",
    "# Filtrer pour obtenir uniquement les colonnes avec des valeurs manquantes\n",
    "columns_with_na = missing_values_count[missing_values_count > 0].index.tolist()\n",
    "\n",
    "# Afficher uniquement les colonnes avec des valeurs manquantes\n",
    "print(\"\\nDataFrame avec uniquement les colonnes ayant des valeurs manquantes:\")\n",
    "print(df[columns_with_na])"
   ],
   "id": "2dcd77dc0177b9b7",
   "outputs": [
    {
     "name": "stdout",
     "output_type": "stream",
     "text": [
      "Nombre de valeurs manquantes par colonne:\n",
      "CryoSleep                    217\n",
      "Age                            0\n",
      "VIP                          203\n",
      "RoomService                    0\n",
      "FoodCourt                      0\n",
      "ShoppingMall                   0\n",
      "Spa                            0\n",
      "VRDeck                         0\n",
      "Transported                    0\n",
      "Groupe                         0\n",
      "Numero                         0\n",
      "HomePlanet_Earth               0\n",
      "HomePlanet_Europa              0\n",
      "HomePlanet_Mars                0\n",
      "Pont                           0\n",
      "Num                          199\n",
      "Cote                           0\n",
      "Destination_55 Cancri e        0\n",
      "Destination_PSO J318.5-22      0\n",
      "Destination_TRAPPIST-1e        0\n",
      "dtype: int64\n",
      "\n",
      "DataFrame avec uniquement les colonnes ayant des valeurs manquantes:\n",
      "     CryoSleep    VIP     Num\n",
      "0        False  False     0.0\n",
      "1        False  False     0.0\n",
      "2        False   True     0.0\n",
      "3        False  False     0.0\n",
      "4        False  False     1.0\n",
      "...        ...    ...     ...\n",
      "8688     False   True    98.0\n",
      "8689      True  False  1499.0\n",
      "8690     False  False  1500.0\n",
      "8691     False  False   608.0\n",
      "8692     False  False   608.0\n",
      "\n",
      "[8693 rows x 3 columns]\n"
     ]
    }
   ],
   "execution_count": 200
  },
  {
   "metadata": {
    "ExecuteTime": {
     "end_time": "2024-04-18T00:00:16.315678Z",
     "start_time": "2024-04-18T00:00:16.312492Z"
    }
   },
   "cell_type": "code",
   "source": [
    "# Supprimer les lignes contenant des NaN\n",
    "df = df.dropna()"
   ],
   "id": "25026c2d5c8604f3",
   "outputs": [],
   "execution_count": 201
  },
  {
   "metadata": {
    "ExecuteTime": {
     "end_time": "2024-04-18T00:00:16.320259Z",
     "start_time": "2024-04-18T00:00:16.316267Z"
    }
   },
   "cell_type": "code",
   "source": [
    "# Séparation des features et de la cible\n",
    "X = df.drop('Transported', axis=1)  # ou les colonnes que vous souhaitez inclure comme features\n",
    "y = df['Transported']\n",
    "\n",
    "# Diviser les données en ensemble d'entraînement et de test\n",
    "X_train, X_test, y_train, y_test = train_test_split(X, y, test_size=0.3, random_state=42)"
   ],
   "id": "6d2e92037d466e36",
   "outputs": [],
   "execution_count": 202
  },
  {
   "metadata": {},
   "cell_type": "markdown",
   "source": "# Entraînement du modèle",
   "id": "810062a016999fd3"
  },
  {
   "metadata": {
    "ExecuteTime": {
     "end_time": "2024-04-18T00:00:16.486189Z",
     "start_time": "2024-04-18T00:00:16.320847Z"
    }
   },
   "cell_type": "code",
   "source": [
    "# Créer une instance du modèle\n",
    "model = LogisticRegression(max_iter=1000, tol=0.1)\n",
    "\n",
    "# Entraîner le modèle\n",
    "model.fit(X_train, y_train)"
   ],
   "id": "ccdcdb83598269ff",
   "outputs": [
    {
     "data": {
      "text/plain": [
       "LogisticRegression(max_iter=1000, tol=0.1)"
      ],
      "text/html": [
       "<style>#sk-container-id-4 {color: black;}#sk-container-id-4 pre{padding: 0;}#sk-container-id-4 div.sk-toggleable {background-color: white;}#sk-container-id-4 label.sk-toggleable__label {cursor: pointer;display: block;width: 100%;margin-bottom: 0;padding: 0.3em;box-sizing: border-box;text-align: center;}#sk-container-id-4 label.sk-toggleable__label-arrow:before {content: \"▸\";float: left;margin-right: 0.25em;color: #696969;}#sk-container-id-4 label.sk-toggleable__label-arrow:hover:before {color: black;}#sk-container-id-4 div.sk-estimator:hover label.sk-toggleable__label-arrow:before {color: black;}#sk-container-id-4 div.sk-toggleable__content {max-height: 0;max-width: 0;overflow: hidden;text-align: left;background-color: #f0f8ff;}#sk-container-id-4 div.sk-toggleable__content pre {margin: 0.2em;color: black;border-radius: 0.25em;background-color: #f0f8ff;}#sk-container-id-4 input.sk-toggleable__control:checked~div.sk-toggleable__content {max-height: 200px;max-width: 100%;overflow: auto;}#sk-container-id-4 input.sk-toggleable__control:checked~label.sk-toggleable__label-arrow:before {content: \"▾\";}#sk-container-id-4 div.sk-estimator input.sk-toggleable__control:checked~label.sk-toggleable__label {background-color: #d4ebff;}#sk-container-id-4 div.sk-label input.sk-toggleable__control:checked~label.sk-toggleable__label {background-color: #d4ebff;}#sk-container-id-4 input.sk-hidden--visually {border: 0;clip: rect(1px 1px 1px 1px);clip: rect(1px, 1px, 1px, 1px);height: 1px;margin: -1px;overflow: hidden;padding: 0;position: absolute;width: 1px;}#sk-container-id-4 div.sk-estimator {font-family: monospace;background-color: #f0f8ff;border: 1px dotted black;border-radius: 0.25em;box-sizing: border-box;margin-bottom: 0.5em;}#sk-container-id-4 div.sk-estimator:hover {background-color: #d4ebff;}#sk-container-id-4 div.sk-parallel-item::after {content: \"\";width: 100%;border-bottom: 1px solid gray;flex-grow: 1;}#sk-container-id-4 div.sk-label:hover label.sk-toggleable__label {background-color: #d4ebff;}#sk-container-id-4 div.sk-serial::before {content: \"\";position: absolute;border-left: 1px solid gray;box-sizing: border-box;top: 0;bottom: 0;left: 50%;z-index: 0;}#sk-container-id-4 div.sk-serial {display: flex;flex-direction: column;align-items: center;background-color: white;padding-right: 0.2em;padding-left: 0.2em;position: relative;}#sk-container-id-4 div.sk-item {position: relative;z-index: 1;}#sk-container-id-4 div.sk-parallel {display: flex;align-items: stretch;justify-content: center;background-color: white;position: relative;}#sk-container-id-4 div.sk-item::before, #sk-container-id-4 div.sk-parallel-item::before {content: \"\";position: absolute;border-left: 1px solid gray;box-sizing: border-box;top: 0;bottom: 0;left: 50%;z-index: -1;}#sk-container-id-4 div.sk-parallel-item {display: flex;flex-direction: column;z-index: 1;position: relative;background-color: white;}#sk-container-id-4 div.sk-parallel-item:first-child::after {align-self: flex-end;width: 50%;}#sk-container-id-4 div.sk-parallel-item:last-child::after {align-self: flex-start;width: 50%;}#sk-container-id-4 div.sk-parallel-item:only-child::after {width: 0;}#sk-container-id-4 div.sk-dashed-wrapped {border: 1px dashed gray;margin: 0 0.4em 0.5em 0.4em;box-sizing: border-box;padding-bottom: 0.4em;background-color: white;}#sk-container-id-4 div.sk-label label {font-family: monospace;font-weight: bold;display: inline-block;line-height: 1.2em;}#sk-container-id-4 div.sk-label-container {text-align: center;}#sk-container-id-4 div.sk-container {/* jupyter's `normalize.less` sets `[hidden] { display: none; }` but bootstrap.min.css set `[hidden] { display: none !important; }` so we also need the `!important` here to be able to override the default hidden behavior on the sphinx rendered scikit-learn.org. See: https://github.com/scikit-learn/scikit-learn/issues/21755 */display: inline-block !important;position: relative;}#sk-container-id-4 div.sk-text-repr-fallback {display: none;}</style><div id=\"sk-container-id-4\" class=\"sk-top-container\"><div class=\"sk-text-repr-fallback\"><pre>LogisticRegression(max_iter=1000, tol=0.1)</pre><b>In a Jupyter environment, please rerun this cell to show the HTML representation or trust the notebook. <br />On GitHub, the HTML representation is unable to render, please try loading this page with nbviewer.org.</b></div><div class=\"sk-container\" hidden><div class=\"sk-item\"><div class=\"sk-estimator sk-toggleable\"><input class=\"sk-toggleable__control sk-hidden--visually\" id=\"sk-estimator-id-4\" type=\"checkbox\" checked><label for=\"sk-estimator-id-4\" class=\"sk-toggleable__label sk-toggleable__label-arrow\">LogisticRegression</label><div class=\"sk-toggleable__content\"><pre>LogisticRegression(max_iter=1000, tol=0.1)</pre></div></div></div></div></div>"
      ]
     },
     "execution_count": 203,
     "metadata": {},
     "output_type": "execute_result"
    }
   ],
   "execution_count": 203
  },
  {
   "metadata": {},
   "cell_type": "markdown",
   "source": "# Prédiction et évaluation",
   "id": "7389e92b9ebcf6e"
  },
  {
   "metadata": {
    "ExecuteTime": {
     "end_time": "2024-04-18T00:00:16.499309Z",
     "start_time": "2024-04-18T00:00:16.487909Z"
    }
   },
   "cell_type": "code",
   "source": [
    "# Prédiction sur l'ensemble de test\n",
    "y_pred = model.predict(X_test)\n",
    "\n",
    "# Calcul de la précision\n",
    "accuracy = accuracy_score(y_test, y_pred)\n",
    "print(f\"Précision: {accuracy}\")\n",
    "\n",
    "# Afficher la matrice de confusion\n",
    "conf_matrix = confusion_matrix(y_test, y_pred)"
   ],
   "id": "34c8b6e115bb7320",
   "outputs": [
    {
     "name": "stdout",
     "output_type": "stream",
     "text": [
      "Précision: 0.7953890489913544\n"
     ]
    }
   ],
   "execution_count": 204
  },
  {
   "metadata": {},
   "cell_type": "markdown",
   "source": "# Visualisation des résultats",
   "id": "13afcf0901aee7ed"
  },
  {
   "metadata": {
    "ExecuteTime": {
     "end_time": "2024-04-18T00:00:16.621779Z",
     "start_time": "2024-04-18T00:00:16.500666Z"
    }
   },
   "cell_type": "code",
   "source": [
    "plt.figure(figsize=(8, 6))\n",
    "sns.heatmap(conf_matrix, annot=True, fmt=\"d\", cmap=\"Blues\", xticklabels=['Non Transported', 'Transported'], yticklabels=['Non Transported', 'Transported'])\n",
    "plt.xlabel('Predicted Label')\n",
    "plt.ylabel('True Label')\n",
    "plt.title('Matrice de confusion')\n",
    "plt.show()"
   ],
   "id": "1c7d08346cdba2ad",
   "outputs": [
    {
     "data": {
      "text/plain": [
       "<Figure size 800x600 with 2 Axes>"
      ],
      "image/png": "[encoded data removed]"
     },
     "metadata": {},
     "output_type": "display_data"
    }
   ],
   "execution_count": 205
  }
 ],
 "metadata": {
  "kernelspec": {
   "display_name": "Python 3",
   "language": "python",
   "name": "python3"
  },
  "language_info": {
   "codemirror_mode": {
    "name": "ipython",
    "version": 2
   },
   "file_extension": ".py",
   "mimetype": "text/x-python",
   "name": "python",
   "nbconvert_exporter": "python",
   "pygments_lexer": "ipython2",
   "version": "2.7.6"
  }
 },
 "nbformat": 4,
 "nbformat_minor": 5
}
