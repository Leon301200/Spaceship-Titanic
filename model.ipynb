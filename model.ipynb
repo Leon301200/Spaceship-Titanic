{
 "cells": [
  {
   "metadata": {},
   "cell_type": "markdown",
   "source": "# Import",
   "id": "d87cca30776cab4c"
  },
  {
   "cell_type": "code",
   "id": "initial_id",
   "metadata": {
    "collapsed": true,
    "ExecuteTime": {
     "end_time": "2024-04-20T10:34:34.409671Z",
     "start_time": "2024-04-20T10:34:34.407253Z"
    }
   },
   "source": [
    "import pandas as pd\n",
    "import numpy as np\n",
    "from sklearn.preprocessing import LabelEncoder\n",
    "from sklearn.model_selection import train_test_split\n",
    "from sklearn.linear_model import LogisticRegression\n",
    "from sklearn.ensemble import RandomForestClassifier\n",
    "from sklearn.metrics import accuracy_score, confusion_matrix\n",
    "import seaborn as sns\n",
    "import matplotlib.pyplot as plt\n",
    "from sklearn.preprocessing import StandardScaler\n",
    "from sklearn.linear_model import BayesianRidge\n",
    "from sklearn.impute import IterativeImputer\n",
    "from sklearn.pipeline import Pipeline\n",
    "from xgboost import XGBClassifier\n",
    "from sklearn.preprocessing import OneHotEncoder\n"
   ],
   "outputs": [],
   "execution_count": 2224
  },
  {
   "metadata": {},
   "cell_type": "markdown",
   "source": "# Chargement de la données",
   "id": "1a8980bf110a3921"
  },
  {
   "metadata": {
    "ExecuteTime": {
     "end_time": "2024-04-20T10:34:34.462634Z",
     "start_time": "2024-04-20T10:34:34.451267Z"
    }
   },
   "cell_type": "code",
   "source": [
    "chemin_fichier = \"data/train.csv\"\n",
    "df = pd.read_csv(chemin_fichier)\n",
    "# print(df.head())"
   ],
   "id": "3dcd2b2603e71e4c",
   "outputs": [],
   "execution_count": 2225
  },
  {
   "metadata": {
    "ExecuteTime": {
     "end_time": "2024-04-20T10:34:34.465974Z",
     "start_time": "2024-04-20T10:34:34.463634Z"
    }
   },
   "cell_type": "code",
   "source": [
    "print(np.sum(df['Transported'] == True))\n",
    "print(np.sum(df['Transported'] == False))"
   ],
   "id": "916687e663194175",
   "outputs": [
    {
     "name": "stdout",
     "output_type": "stream",
     "text": [
      "4378\n",
      "4315\n"
     ]
    }
   ],
   "execution_count": 2226
  },
  {
   "metadata": {},
   "cell_type": "markdown",
   "source": "# Transformation de la données",
   "id": "680a262391717207"
  },
  {
   "metadata": {
    "ExecuteTime": {
     "end_time": "2024-04-20T10:34:34.473032Z",
     "start_time": "2024-04-20T10:34:34.466596Z"
    }
   },
   "cell_type": "code",
   "source": [
    "# Calcul du nombre de valeurs manquantes par colonne\n",
    "missing_values_count = df.isnull().sum()\n",
    "\n",
    "# Afficher les colonnes avec le nombre de valeurs manquantes\n",
    "print(\"Nombre de valeurs manquantes par colonne:\")\n",
    "print(missing_values_count)\n",
    "\n",
    "# Filtrer pour obtenir uniquement les colonnes avec des valeurs manquantes\n",
    "columns_with_na = missing_values_count[missing_values_count > 0].index.tolist()\n",
    "\n",
    "# Afficher uniquement les colonnes avec des valeurs manquantes\n",
    "print(\"\\nDataFrame avec uniquement les colonnes ayant des valeurs manquantes:\")\n",
    "print(df[columns_with_na])"
   ],
   "id": "61fdfd322f83c29c",
   "outputs": [
    {
     "name": "stdout",
     "output_type": "stream",
     "text": [
      "Nombre de valeurs manquantes par colonne:\n",
      "PassengerId       0\n",
      "HomePlanet      201\n",
      "CryoSleep       217\n",
      "Cabin           199\n",
      "Destination     182\n",
      "Age             179\n",
      "VIP             203\n",
      "RoomService     181\n",
      "FoodCourt       183\n",
      "ShoppingMall    208\n",
      "Spa             183\n",
      "VRDeck          188\n",
      "Name            200\n",
      "Transported       0\n",
      "dtype: int64\n",
      "\n",
      "DataFrame avec uniquement les colonnes ayant des valeurs manquantes:\n",
      "     HomePlanet CryoSleep     Cabin    Destination   Age    VIP  RoomService  \\\n",
      "0        Europa     False     B/0/P    TRAPPIST-1e  39.0  False          0.0   \n",
      "1         Earth     False     F/0/S    TRAPPIST-1e  24.0  False        109.0   \n",
      "2        Europa     False     A/0/S    TRAPPIST-1e  58.0   True         43.0   \n",
      "3        Europa     False     A/0/S    TRAPPIST-1e  33.0  False          0.0   \n",
      "4         Earth     False     F/1/S    TRAPPIST-1e  16.0  False        303.0   \n",
      "...         ...       ...       ...            ...   ...    ...          ...   \n",
      "8688     Europa     False    A/98/P    55 Cancri e  41.0   True          0.0   \n",
      "8689      Earth      True  G/1499/S  PSO J318.5-22  18.0  False          0.0   \n",
      "8690      Earth     False  G/1500/S    TRAPPIST-1e  26.0  False          0.0   \n",
      "8691     Europa     False   E/608/S    55 Cancri e  32.0  False          0.0   \n",
      "8692     Europa     False   E/608/S    TRAPPIST-1e  44.0  False        126.0   \n",
      "\n",
      "      FoodCourt  ShoppingMall     Spa  VRDeck               Name  \n",
      "0           0.0           0.0     0.0     0.0    Maham Ofracculy  \n",
      "1           9.0          25.0   549.0    44.0       Juanna Vines  \n",
      "2        3576.0           0.0  6715.0    49.0      Altark Susent  \n",
      "3        1283.0         371.0  3329.0   193.0       Solam Susent  \n",
      "4          70.0         151.0   565.0     2.0  Willy Santantines  \n",
      "...         ...           ...     ...     ...                ...  \n",
      "8688     6819.0           0.0  1643.0    74.0  Gravior Noxnuther  \n",
      "8689        0.0           0.0     0.0     0.0    Kurta Mondalley  \n",
      "8690        0.0        1872.0     1.0     0.0       Fayey Connon  \n",
      "8691     1049.0           0.0   353.0  3235.0   Celeon Hontichre  \n",
      "8692     4688.0           0.0     0.0    12.0   Propsh Hontichre  \n",
      "\n",
      "[8693 rows x 12 columns]\n"
     ]
    }
   ],
   "execution_count": 2227
  },
  {
   "metadata": {
    "ExecuteTime": {
     "end_time": "2024-04-20T10:34:34.479343Z",
     "start_time": "2024-04-20T10:34:34.474168Z"
    }
   },
   "cell_type": "code",
   "source": [
    "# Compter le nombre total de lignes\n",
    "total_rows = len(df)\n",
    "print(\"Nombre total de lignes:\", total_rows)\n",
    "\n",
    "# Compter les lignes contenant au moins une valeur manquante\n",
    "rows_with_na = df.isnull().any(axis=1).sum()\n",
    "print(\"Nombre de lignes avec au moins une valeur manquante:\", rows_with_na)\n",
    "\n",
    "# Compter le nombre de ligne avec n valeur(s) manquante(s)\n",
    "n_nan_required = 1;\n",
    "nan_counts = df.isnull().sum(axis=1)\n",
    "count_n_nan = (nan_counts == n_nan_required).sum()\n",
    "print(f\"Nombre de lignes avec exactement {n_nan_required} valeurs manquantes: {count_n_nan}\")"
   ],
   "id": "b36c1ae9f0723f76",
   "outputs": [
    {
     "name": "stdout",
     "output_type": "stream",
     "text": [
      "Nombre total de lignes: 8693\n",
      "Nombre de lignes avec au moins une valeur manquante: 2087\n",
      "Nombre de lignes avec exactement 1 valeurs manquantes: 1867\n"
     ]
    }
   ],
   "execution_count": 2228
  },
  {
   "metadata": {
    "ExecuteTime": {
     "end_time": "2024-04-20T10:34:34.591511Z",
     "start_time": "2024-04-20T10:34:34.479906Z"
    }
   },
   "cell_type": "code",
   "source": [
    "# Initialisation de l'IterativeImputer\n",
    "colonnes_numeriques = ['Age', 'RoomService', 'FoodCourt', 'ShoppingMall', 'Spa', 'VRDeck']\n",
    "\n",
    "imputer = IterativeImputer(estimator=BayesianRidge(),\n",
    "                           max_iter=10,\n",
    "                           verbose=2,\n",
    "                           random_state=42)\n",
    "# Df histo \n",
    "df_orig = df.copy(deep=True)# Imputation\n",
    "df[colonnes_numeriques] = imputer.fit_transform(df[colonnes_numeriques])\n",
    "\n",
    "# Affichage\n",
    "print(df[colonnes_numeriques].isnull().sum())"
   ],
   "id": "4a657f9cc6d62015",
   "outputs": [
    {
     "name": "stdout",
     "output_type": "stream",
     "text": [
      "[IterativeImputer] Completing matrix with shape (8693, 6)\n",
      "[IterativeImputer] Ending imputation round 1/10, elapsed time 0.02\n",
      "[IterativeImputer] Change: 2579.328974680969, scaled tolerance: 29.813000000000002 \n",
      "[IterativeImputer] Ending imputation round 2/10, elapsed time 0.04\n",
      "[IterativeImputer] Change: 85.8027477445919, scaled tolerance: 29.813000000000002 \n",
      "[IterativeImputer] Ending imputation round 3/10, elapsed time 0.10\n",
      "[IterativeImputer] Change: 3.3544822285639384, scaled tolerance: 29.813000000000002 \n",
      "[IterativeImputer] Early stopping criterion reached.\n",
      "Age             0\n",
      "RoomService     0\n",
      "FoodCourt       0\n",
      "ShoppingMall    0\n",
      "Spa             0\n",
      "VRDeck          0\n",
      "dtype: int64\n"
     ]
    }
   ],
   "execution_count": 2229
  },
  {
   "metadata": {
    "ExecuteTime": {
     "end_time": "2024-04-20T10:34:34.727576Z",
     "start_time": "2024-04-20T10:34:34.593360Z"
    }
   },
   "cell_type": "code",
   "source": [
    "# Affichage apres imputation par colonne\n",
    "colonne = 'RoomService'\n",
    "\n",
    "indices_modifies = np.where(np.isnan(df_orig[colonne]) & ~np.isnan(df[colonne]))\n",
    "\n",
    "# S'assurer que nous utilisons les indices corrects pour accéder aux valeurs imputées dans df\n",
    "valeurs_imputees = df.iloc[indices_modifies][colonne]\n",
    "\n",
    "# Vérifier si 'valeurs_imputees' contient des données\n",
    "if not valeurs_imputees.empty:\n",
    "    plt.figure(figsize=(8, 6))\n",
    "    n, bins, patches = plt.hist(valeurs_imputees, bins=20, color='red', alpha=0.7, label='Valeurs Imputées')\n",
    "    plt.title('Histogramme des valeurs imputées pour ' + colonne)\n",
    "    plt.xlabel(colonne)\n",
    "    plt.ylabel('Fréquence')\n",
    "    plt.legend()\n",
    "\n",
    "    # Ajouter les annotations sur les barres\n",
    "    for i in range(len(patches)):\n",
    "        plt.annotate(str(int(n[i])), (patches[i].xy[0] + patches[i]._width / 2, n[i] + 1), ha='center')\n",
    "\n",
    "    plt.show()\n",
    "else:\n",
    "    print(\"Aucune valeur imputée à afficher.\")"
   ],
   "id": "6f568a10c7ff162c",
   "outputs": [
    {
     "data": {
      "text/plain": [
       "<Figure size 800x600 with 1 Axes>"
      ],
      "image/png": "[encoded data removed]"
     },
     "metadata": {},
     "output_type": "display_data"
    }
   ],
   "execution_count": 2230
  },
  {
   "metadata": {
    "ExecuteTime": {
     "end_time": "2024-04-20T10:34:34.740742Z",
     "start_time": "2024-04-20T10:34:34.730784Z"
    }
   },
   "cell_type": "code",
   "source": [
    "# Passenger_ID, séparation de la variable en deux variables Groupe_Numero\n",
    "df[['Groupe', 'Numero']] = df['PassengerId'].str.split('_', expand=True)\n",
    "df.drop('PassengerId', axis=1, inplace=True)\n",
    "# print(df.head())"
   ],
   "id": "6b2d4ce4993b357a",
   "outputs": [],
   "execution_count": 2231
  },
  {
   "metadata": {
    "ExecuteTime": {
     "end_time": "2024-04-20T10:34:34.744880Z",
     "start_time": "2024-04-20T10:34:34.742438Z"
    }
   },
   "cell_type": "code",
   "source": [
    "# HomePlanet, \n",
    "# df['HomePlanet'] = df['HomePlanet'].fillna('Unknown')\n",
    "# print(df.head())"
   ],
   "id": "f5490f91e764788c",
   "outputs": [],
   "execution_count": 2232
  },
  {
   "metadata": {
    "ExecuteTime": {
     "end_time": "2024-04-20T10:34:34.766529Z",
     "start_time": "2024-04-20T10:34:34.753189Z"
    }
   },
   "cell_type": "code",
   "source": [
    "# Cabin,  séparation de la variable en trois champs : pont/num/côté\n",
    "df['Cabin'] = df['Cabin'].fillna('0/0/0')\n",
    "df[['Pont', 'Num', 'Cote']] = df['Cabin'].str.split('/', expand=True)\n",
    "df.drop('Cabin', axis=1, inplace=True)\n",
    "# print(df.head())"
   ],
   "id": "f261a7a6f8369c77",
   "outputs": [],
   "execution_count": 2233
  },
  {
   "metadata": {
    "ExecuteTime": {
     "end_time": "2024-04-20T10:34:34.770068Z",
     "start_time": "2024-04-20T10:34:34.767906Z"
    }
   },
   "cell_type": "code",
   "source": [
    "# Destination, OneHotEncoding\n",
    "# df['Destination'] = df['Destination'].fillna('Unknown')\n",
    "# print(df.head())"
   ],
   "id": "b8bc88fb06e3dc8a",
   "outputs": [],
   "execution_count": 2234
  },
  {
   "metadata": {
    "ExecuteTime": {
     "end_time": "2024-04-20T10:34:34.776425Z",
     "start_time": "2024-04-20T10:34:34.771296Z"
    }
   },
   "cell_type": "code",
   "source": [
    "# nb_false = (df['CryoSleep'] == False).sum()\n",
    "# nb_true = (df['CryoSleep'] == True).sum()\n",
    "# print(\"Nombre de valeurs False dans 'CryoSleep':\", nb_false)\n",
    "# print(\"Nombre de valeurs True dans 'CrySleep':\", nb_true)\n",
    "\n",
    "# Remplacement des null par False\n",
    "df['CryoSleep'] = df['CryoSleep'].fillna(False)"
   ],
   "id": "d1cd1c1eae132244",
   "outputs": [],
   "execution_count": 2235
  },
  {
   "metadata": {
    "ExecuteTime": {
     "end_time": "2024-04-20T10:34:34.784153Z",
     "start_time": "2024-04-20T10:34:34.779874Z"
    }
   },
   "cell_type": "code",
   "source": [
    "# nb_false = (df['VIP'] == False).sum()\n",
    "# nb_true = (df['VIP'] == True).sum()\n",
    "# print(\"Nombre de valeurs False dans 'VIP':\", nb_false)\n",
    "# print(\"Nombre de valeurs True dans 'VIP':\", nb_true)\n",
    "\n",
    "# Remplacement des null par False\n",
    "df['VIP'] = df['VIP'].fillna(False)"
   ],
   "id": "5308886fa81c877a",
   "outputs": [],
   "execution_count": 2236
  },
  {
   "metadata": {
    "ExecuteTime": {
     "end_time": "2024-04-20T10:34:34.790882Z",
     "start_time": "2024-04-20T10:34:34.785939Z"
    }
   },
   "cell_type": "code",
   "source": [
    "#Suppression de la colonne Name\n",
    "df.drop('Name', axis=1, inplace=True)"
   ],
   "id": "bb308029b4d7434c",
   "outputs": [],
   "execution_count": 2237
  },
  {
   "metadata": {},
   "cell_type": "markdown",
   "source": "## Conversion des types",
   "id": "30ef0c22ed41228c"
  },
  {
   "metadata": {
    "ExecuteTime": {
     "end_time": "2024-04-20T10:34:34.818917Z",
     "start_time": "2024-04-20T10:34:34.792350Z"
    }
   },
   "cell_type": "code",
   "source": [
    "df['CryoSleep'].astype(bool)\n",
    "df['Age'].astype(int)\n",
    "df['VIP'].astype(bool)\n",
    "df['RoomService'].astype(int)\n",
    "df['FoodCourt'].astype(int)\n",
    "df['ShoppingMall'].astype(int)\n",
    "df['Spa'].astype(int)\n",
    "df['VRDeck'].astype(int)\n",
    "df['Transported'].astype(bool)\n",
    "df['Groupe'] = pd.to_numeric(df['Groupe'], errors='coerce')\n",
    "df['Numero'] = pd.to_numeric(df['Numero'], errors='coerce')\n",
    "df['Num'] = pd.to_numeric(df['Num'], errors='coerce')\n",
    "\n",
    "# LabelEncoding : Vient attribuer un nombre unique a chaque catgeorie\n",
    "label_encoder = LabelEncoder()\n",
    "df['Pont'] = label_encoder.fit_transform(df['Pont'])\n",
    "df['Cote'] = label_encoder.fit_transform(df['Cote'])\n",
    "\n",
    "# OneHotEncoding \n",
    "ohe = OneHotEncoder(sparse_output=False, drop='first', handle_unknown='ignore')  # drop='first' pour éviter le piège de la multicollinéarité\n",
    "# Encodage pour 'HomePlanet'\n",
    "homeplanet_encoded = ohe.fit_transform(df[['HomePlanet']])\n",
    "homeplanet_encoded_df = pd.DataFrame(homeplanet_encoded, columns=ohe.get_feature_names_out(['HomePlanet']))\n",
    "# Encodage pour 'Destination'\n",
    "destination_encoded = ohe.fit_transform(df[['Destination']])\n",
    "destination_encoded_df = pd.DataFrame(destination_encoded, columns=ohe.get_feature_names_out(['Destination']))\n",
    "# Concatener les DataFrames\n",
    "df = pd.concat([df.drop(['HomePlanet', 'Destination'], axis=1), homeplanet_encoded_df, destination_encoded_df], axis=1)\n",
    "\n",
    "#Affichage \n",
    "print(df.head())"
   ],
   "id": "5dbc414f1b4b6867",
   "outputs": [
    {
     "name": "stdout",
     "output_type": "stream",
     "text": [
      "   CryoSleep   Age    VIP  RoomService  FoodCourt  ShoppingMall     Spa  \\\n",
      "0      False  39.0  False          0.0        0.0           0.0     0.0   \n",
      "1      False  24.0  False        109.0        9.0          25.0   549.0   \n",
      "2      False  58.0   True         43.0     3576.0           0.0  6715.0   \n",
      "3      False  33.0  False          0.0     1283.0         371.0  3329.0   \n",
      "4      False  16.0  False        303.0       70.0         151.0   565.0   \n",
      "\n",
      "   VRDeck  Transported  Groupe  Numero  Pont  Num  Cote  HomePlanet_Europa  \\\n",
      "0     0.0        False       1       1     2    0     1                1.0   \n",
      "1    44.0         True       2       1     6    0     2                0.0   \n",
      "2    49.0        False       3       1     1    0     2                1.0   \n",
      "3   193.0        False       3       2     1    0     2                1.0   \n",
      "4     2.0         True       4       1     6    1     2                0.0   \n",
      "\n",
      "   HomePlanet_Mars  HomePlanet_nan  Destination_PSO J318.5-22  \\\n",
      "0              0.0             0.0                        0.0   \n",
      "1              0.0             0.0                        0.0   \n",
      "2              0.0             0.0                        0.0   \n",
      "3              0.0             0.0                        0.0   \n",
      "4              0.0             0.0                        0.0   \n",
      "\n",
      "   Destination_TRAPPIST-1e  Destination_nan  \n",
      "0                      1.0              0.0  \n",
      "1                      1.0              0.0  \n",
      "2                      1.0              0.0  \n",
      "3                      1.0              0.0  \n",
      "4                      1.0              0.0  \n"
     ]
    }
   ],
   "execution_count": 2238
  },
  {
   "metadata": {
    "ExecuteTime": {
     "end_time": "2024-04-20T10:34:34.857902Z",
     "start_time": "2024-04-20T10:34:34.820382Z"
    }
   },
   "cell_type": "code",
   "source": [
    "# Enregistrement du DataSet dans un csv\n",
    "try:\n",
    "    df.to_csv('data/dataset.csv', index=False)\n",
    "    print(\"Fichier enregistré avec succès.\")\n",
    "except Exception as e:\n",
    "    print(f\"Erreur lors de l'enregistrement du fichier : {e}\")"
   ],
   "id": "2ab76704369ba9b3",
   "outputs": [
    {
     "name": "stdout",
     "output_type": "stream",
     "text": [
      "Fichier enregistré avec succès.\n"
     ]
    }
   ],
   "execution_count": 2239
  },
  {
   "metadata": {
    "ExecuteTime": {
     "end_time": "2024-04-20T10:34:34.859837Z",
     "start_time": "2024-04-20T10:34:34.858503Z"
    }
   },
   "cell_type": "code",
   "source": [
    "# Supprimer les lignes contenant des NaN\n",
    "# df = df.dropna()"
   ],
   "id": "25026c2d5c8604f3",
   "outputs": [],
   "execution_count": 2240
  },
  {
   "metadata": {},
   "cell_type": "markdown",
   "source": "# Initialisation des modèles",
   "id": "810062a016999fd3"
  },
  {
   "metadata": {
    "ExecuteTime": {
     "end_time": "2024-04-20T10:34:34.863312Z",
     "start_time": "2024-04-20T10:34:34.860504Z"
    }
   },
   "cell_type": "code",
   "source": [
    "# Séparation des features et de la cible\n",
    "X = df.drop('Transported', axis=1)\n",
    "y = df['Transported']\n",
    "\n",
    "# Définir le pipeline\n",
    "lr_pipeline = Pipeline([\n",
    "    ('scaler', StandardScaler()),   # Étape de normalisation\n",
    "    ('classifier', LogisticRegression())  # Étape de classification\n",
    "])\n",
    "\n",
    "# Définir le pipeline\n",
    "rf_pipeline = Pipeline([\n",
    "    ('scaler', StandardScaler()),   # Étape de normalisation\n",
    "    ('classifier', RandomForestClassifier(n_estimators=100, random_state=42))  # Étape de classification\n",
    "])\n",
    "\n",
    "# Définir le pipeline\n",
    "xgb_pipeline = Pipeline([\n",
    "    ('scaler', StandardScaler()),   # Étape de normalisation\n",
    "    ('classifier', XGBClassifier(n_estimators=100, random_state=42))  # Étape de classification\n",
    "])"
   ],
   "id": "396888b6e7c65a08",
   "outputs": [],
   "execution_count": 2241
  },
  {
   "metadata": {},
   "cell_type": "markdown",
   "source": "# Importance des caractéristiques",
   "id": "56f1de671d643e4"
  },
  {
   "metadata": {
    "ExecuteTime": {
     "end_time": "2024-04-20T10:34:34.865136Z",
     "start_time": "2024-04-20T10:34:34.863813Z"
    }
   },
   "cell_type": "code",
   "source": [
    "# # Logistic Regression\n",
    "# # Afficher l'importance\n",
    "# importance = lr.coef_[0]\n",
    "# for i, v in enumerate(importance):\n",
    "#     print(f'Feature: {X.columns[i]}, Score: {v}')"
   ],
   "id": "2b4890053d369ca0",
   "outputs": [],
   "execution_count": 2242
  },
  {
   "metadata": {
    "ExecuteTime": {
     "end_time": "2024-04-20T10:34:34.866887Z",
     "start_time": "2024-04-20T10:34:34.865625Z"
    }
   },
   "cell_type": "code",
   "source": [
    "# # Random Forest\n",
    "# # Obtenir les importances des caractéristiques\n",
    "# importances = rf.feature_importances_\n",
    "# \n",
    "# # Afficher les importances\n",
    "# for i, importance in enumerate(importances):\n",
    "#     print(f\"Feature: {X.columns[i]}, Importance: {importance}\")"
   ],
   "id": "6102753c9a3dcca",
   "outputs": [],
   "execution_count": 2243
  },
  {
   "metadata": {},
   "cell_type": "markdown",
   "source": "# Prédiction et évaluation",
   "id": "7389e92b9ebcf6e"
  },
  {
   "metadata": {
    "ExecuteTime": {
     "end_time": "2024-04-20T10:34:38.679490Z",
     "start_time": "2024-04-20T10:34:34.867345Z"
    }
   },
   "cell_type": "code",
   "source": [
    "from sklearn.model_selection import cross_val_score, StratifiedKFold, cross_validate\n",
    "\n",
    "# Configuration de StratifiedKFold\n",
    "skf = StratifiedKFold(n_splits=5, shuffle=True, random_state=42)\n",
    "\n",
    "# Cross Validation\n",
    "# Métriques multiples\n",
    "scoring = {\n",
    "    'accuracy': 'accuracy',\n",
    "    'precision': 'precision_macro',\n",
    "    'recall': 'recall_macro',\n",
    "    'f1_score': 'f1_macro'\n",
    "}\n",
    "\n",
    "# Logistic Regression\n",
    "# Cross Validation pour chaque modèle\n",
    "lr_results = cross_validate(lr_pipeline, X, y, cv=skf, scoring=scoring)\n",
    "\n",
    "print(\"Logistic Regression\")\n",
    "print(\"Accuracy:\", np.mean(lr_results['test_accuracy']))\n",
    "print(\"Precision:\", np.mean(lr_results['test_precision']))\n",
    "print(\"Recall:\", np.mean(lr_results['test_recall']))\n",
    "print(\"F1 Score:\", np.mean(lr_results['test_f1_score']))\n",
    "\n",
    "# Random Forest\n",
    "rf_results = cross_validate(rf_pipeline, X, y, cv=skf, scoring=scoring)\n",
    "\n",
    "print(\"\\nRandom Forest Classifier\")\n",
    "print(\"Accuracy:\", np.mean(rf_results['test_accuracy']))\n",
    "print(\"Precision:\", np.mean(rf_results['test_precision']))\n",
    "print(\"Recall:\", np.mean(rf_results['test_recall']))\n",
    "print(\"F1 Score:\", np.mean(rf_results['test_f1_score']))\n",
    "\n",
    "# Random Forest\n",
    "xgb_results = cross_validate(xgb_pipeline, X, y, cv=skf, scoring=scoring)\n",
    "\n",
    "print(\"\\nXGBoost Classifier\")\n",
    "print(\"Accuracy:\", np.mean(xgb_results['test_accuracy']))\n",
    "print(\"Precision:\", np.mean(xgb_results['test_precision']))\n",
    "print(\"Recall:\", np.mean(xgb_results['test_recall']))\n",
    "print(\"F1 Score:\", np.mean(xgb_results['test_f1_score']))"
   ],
   "id": "34c8b6e115bb7320",
   "outputs": [
    {
     "name": "stdout",
     "output_type": "stream",
     "text": [
      "Logistic Regression\n",
      "Accuracy: 0.7930524334779655\n",
      "Precision: 0.7935700838212079\n",
      "Recall: 0.7929120955056732\n",
      "F1 Score: 0.7929044136901879\n",
      "\n",
      "Random Forest Classifier\n",
      "Accuracy: 0.8020238341811193\n",
      "Precision: 0.8031595079990079\n",
      "Recall: 0.8022393927643598\n",
      "F1 Score: 0.8019059174128982\n",
      "\n",
      "XGBoost Classifier\n",
      "Accuracy: 0.7977685150321833\n",
      "Precision: 0.7979451890509102\n",
      "Recall: 0.7978319714825405\n",
      "F1 Score: 0.7977527675828434\n"
     ]
    }
   ],
   "execution_count": 2244
  },
  {
   "metadata": {},
   "cell_type": "markdown",
   "source": "# Visualisation des résultats",
   "id": "13afcf0901aee7ed"
  },
  {
   "metadata": {
    "ExecuteTime": {
     "end_time": "2024-04-20T10:34:38.802605Z",
     "start_time": "2024-04-20T10:34:38.680576Z"
    }
   },
   "cell_type": "code",
   "source": [
    "plt.figure(figsize=(8, 6))\n",
    "sns.heatmap(lr_conf_matrix, annot=True, fmt=\"d\", cmap=\"Blues\", xticklabels=['No Transported', 'Transported'], yticklabels=['No Transported', 'Transported'])\n",
    "plt.xlabel('Predicted Label')\n",
    "plt.ylabel('True Label')\n",
    "plt.title('Matrice de confusion')\n",
    "\n",
    "plt.figure(figsize=(8, 6))\n",
    "sns.heatmap(rf_conf_matrix, annot=True, fmt=\"d\", cmap=\"Blues\", xticklabels=['No Transported', 'Transported'], yticklabels=['No Transported', 'Transported'])\n",
    "plt.xlabel('Predicted Label')\n",
    "plt.ylabel('True Label')\n",
    "plt.title('Matrice de confusion')\n",
    "plt.show()"
   ],
   "id": "1c7d08346cdba2ad",
   "outputs": [
    {
     "data": {
      "text/plain": [
       "<Figure size 800x600 with 2 Axes>"
      ],
      "image/png": "[encoded data removed]"
     },
     "metadata": {},
     "output_type": "display_data"
    },
    {
     "data": {
      "text/plain": [
       "<Figure size 800x600 with 2 Axes>"
      ],
      "image/png": "[encoded data removed]"
     },
     "metadata": {},
     "output_type": "display_data"
    }
   ],
   "execution_count": 2245
  }
 ],
 "metadata": {
  "kernelspec": {
   "display_name": "Python 3",
   "language": "python",
   "name": "python3"
  },
  "language_info": {
   "codemirror_mode": {
    "name": "ipython",
    "version": 2
   },
   "file_extension": ".py",
   "mimetype": "text/x-python",
   "name": "python",
   "nbconvert_exporter": "python",
   "pygments_lexer": "ipython2",
   "version": "2.7.6"
  }
 },
 "nbformat": 4,
 "nbformat_minor": 5
}
