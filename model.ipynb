{
 "cells": [
  {
   "metadata": {},
   "cell_type": "markdown",
   "source": "# Import",
   "id": "d87cca30776cab4c"
  },
  {
   "cell_type": "code",
   "id": "initial_id",
   "metadata": {
    "collapsed": true,
    "ExecuteTime": {
     "end_time": "2024-04-19T09:36:46.726538Z",
     "start_time": "2024-04-19T09:36:46.724134Z"
    }
   },
   "source": [
    "import pandas as pd\n",
    "import numpy as np\n",
    "from sklearn.preprocessing import LabelEncoder\n",
    "from sklearn.model_selection import train_test_split\n",
    "from sklearn.linear_model import LogisticRegression\n",
    "from sklearn.metrics import accuracy_score, confusion_matrix\n",
    "import seaborn as sns\n",
    "import matplotlib.pyplot as plt\n",
    "from sklearn.preprocessing import StandardScaler\n",
    "from sklearn.linear_model import BayesianRidge\n",
    "from sklearn.impute import IterativeImputer\n"
   ],
   "outputs": [],
   "execution_count": 1396
  },
  {
   "metadata": {},
   "cell_type": "markdown",
   "source": "# Chargement de la données",
   "id": "1a8980bf110a3921"
  },
  {
   "metadata": {
    "ExecuteTime": {
     "end_time": "2024-04-19T09:36:46.775059Z",
     "start_time": "2024-04-19T09:36:46.757967Z"
    }
   },
   "cell_type": "code",
   "source": [
    "chemin_fichier = \"data/train.csv\"\n",
    "df = pd.read_csv(chemin_fichier)\n",
    "# print(df.head())"
   ],
   "id": "3dcd2b2603e71e4c",
   "outputs": [],
   "execution_count": 1397
  },
  {
   "metadata": {},
   "cell_type": "markdown",
   "source": "# Transformation de la données",
   "id": "680a262391717207"
  },
  {
   "metadata": {
    "ExecuteTime": {
     "end_time": "2024-04-19T09:36:46.784747Z",
     "start_time": "2024-04-19T09:36:46.775980Z"
    }
   },
   "cell_type": "code",
   "source": [
    "# Calcul du nombre de valeurs manquantes par colonne\n",
    "missing_values_count = df.isnull().sum()\n",
    "\n",
    "# Afficher les colonnes avec le nombre de valeurs manquantes\n",
    "print(\"Nombre de valeurs manquantes par colonne:\")\n",
    "print(missing_values_count)\n",
    "\n",
    "# Filtrer pour obtenir uniquement les colonnes avec des valeurs manquantes\n",
    "columns_with_na = missing_values_count[missing_values_count > 0].index.tolist()\n",
    "\n",
    "# Afficher uniquement les colonnes avec des valeurs manquantes\n",
    "print(\"\\nDataFrame avec uniquement les colonnes ayant des valeurs manquantes:\")\n",
    "print(df[columns_with_na])"
   ],
   "id": "61fdfd322f83c29c",
   "outputs": [
    {
     "name": "stdout",
     "output_type": "stream",
     "text": [
      "Nombre de valeurs manquantes par colonne:\n",
      "PassengerId       0\n",
      "HomePlanet      201\n",
      "CryoSleep       217\n",
      "Cabin           199\n",
      "Destination     182\n",
      "Age             179\n",
      "VIP             203\n",
      "RoomService     181\n",
      "FoodCourt       183\n",
      "ShoppingMall    208\n",
      "Spa             183\n",
      "VRDeck          188\n",
      "Name            200\n",
      "Transported       0\n",
      "dtype: int64\n",
      "\n",
      "DataFrame avec uniquement les colonnes ayant des valeurs manquantes:\n",
      "     HomePlanet CryoSleep     Cabin    Destination   Age    VIP  RoomService  \\\n",
      "0        Europa     False     B/0/P    TRAPPIST-1e  39.0  False          0.0   \n",
      "1         Earth     False     F/0/S    TRAPPIST-1e  24.0  False        109.0   \n",
      "2        Europa     False     A/0/S    TRAPPIST-1e  58.0   True         43.0   \n",
      "3        Europa     False     A/0/S    TRAPPIST-1e  33.0  False          0.0   \n",
      "4         Earth     False     F/1/S    TRAPPIST-1e  16.0  False        303.0   \n",
      "...         ...       ...       ...            ...   ...    ...          ...   \n",
      "8688     Europa     False    A/98/P    55 Cancri e  41.0   True          0.0   \n",
      "8689      Earth      True  G/1499/S  PSO J318.5-22  18.0  False          0.0   \n",
      "8690      Earth     False  G/1500/S    TRAPPIST-1e  26.0  False          0.0   \n",
      "8691     Europa     False   E/608/S    55 Cancri e  32.0  False          0.0   \n",
      "8692     Europa     False   E/608/S    TRAPPIST-1e  44.0  False        126.0   \n",
      "\n",
      "      FoodCourt  ShoppingMall     Spa  VRDeck               Name  \n",
      "0           0.0           0.0     0.0     0.0    Maham Ofracculy  \n",
      "1           9.0          25.0   549.0    44.0       Juanna Vines  \n",
      "2        3576.0           0.0  6715.0    49.0      Altark Susent  \n",
      "3        1283.0         371.0  3329.0   193.0       Solam Susent  \n",
      "4          70.0         151.0   565.0     2.0  Willy Santantines  \n",
      "...         ...           ...     ...     ...                ...  \n",
      "8688     6819.0           0.0  1643.0    74.0  Gravior Noxnuther  \n",
      "8689        0.0           0.0     0.0     0.0    Kurta Mondalley  \n",
      "8690        0.0        1872.0     1.0     0.0       Fayey Connon  \n",
      "8691     1049.0           0.0   353.0  3235.0   Celeon Hontichre  \n",
      "8692     4688.0           0.0     0.0    12.0   Propsh Hontichre  \n",
      "\n",
      "[8693 rows x 12 columns]\n"
     ]
    }
   ],
   "execution_count": 1398
  },
  {
   "metadata": {
    "ExecuteTime": {
     "end_time": "2024-04-19T09:36:46.791361Z",
     "start_time": "2024-04-19T09:36:46.785238Z"
    }
   },
   "cell_type": "code",
   "source": [
    "# Compter le nombre total de lignes\n",
    "total_rows = len(df)\n",
    "print(\"Nombre total de lignes:\", total_rows)\n",
    "\n",
    "# Compter les lignes contenant au moins une valeur manquante\n",
    "rows_with_na = df.isnull().any(axis=1).sum()\n",
    "print(\"Nombre de lignes avec au moins une valeur manquante:\", rows_with_na)\n",
    "\n",
    "# Compter le nombre de ligne avec n valeur(s) manquante(s)\n",
    "n_nan_required = 1;\n",
    "nan_counts = df.isnull().sum(axis=1)\n",
    "count_n_nan = (nan_counts == n_nan_required).sum()\n",
    "print(f\"Nombre de lignes avec exactement {n_nan_required} valeurs manquantes: {count_n_nan}\")"
   ],
   "id": "b36c1ae9f0723f76",
   "outputs": [
    {
     "name": "stdout",
     "output_type": "stream",
     "text": [
      "Nombre total de lignes: 8693\n",
      "Nombre de lignes avec au moins une valeur manquante: 2087\n",
      "Nombre de lignes avec exactement 1 valeurs manquantes: 1867\n"
     ]
    }
   ],
   "execution_count": 1399
  },
  {
   "metadata": {
    "ExecuteTime": {
     "end_time": "2024-04-19T09:36:46.885304Z",
     "start_time": "2024-04-19T09:36:46.792506Z"
    }
   },
   "cell_type": "code",
   "source": [
    "# Initialisation de l'IterativeImputer\n",
    "colonnes_numeriques = ['Age', 'RoomService', 'FoodCourt', 'ShoppingMall', 'Spa', 'VRDeck']\n",
    "\n",
    "imputer = IterativeImputer(estimator=BayesianRidge(),\n",
    "                           max_iter=10,\n",
    "                           verbose=2,\n",
    "                           random_state=42)\n",
    "# Df histo \n",
    "df_orig = df.copy(deep=True)# Imputation\n",
    "df[colonnes_numeriques] = imputer.fit_transform(df[colonnes_numeriques])\n",
    "\n",
    "# Affichage\n",
    "print(df[colonnes_numeriques].isnull().sum())"
   ],
   "id": "4a657f9cc6d62015",
   "outputs": [
    {
     "name": "stdout",
     "output_type": "stream",
     "text": [
      "[IterativeImputer] Completing matrix with shape (8693, 6)\n",
      "[IterativeImputer] Ending imputation round 1/10, elapsed time 0.02\n",
      "[IterativeImputer] Change: 2579.328974680969, scaled tolerance: 29.813000000000002 \n",
      "[IterativeImputer] Ending imputation round 2/10, elapsed time 0.05\n",
      "[IterativeImputer] Change: 85.8027477445919, scaled tolerance: 29.813000000000002 \n",
      "[IterativeImputer] Ending imputation round 3/10, elapsed time 0.07\n",
      "[IterativeImputer] Change: 3.3544822285639384, scaled tolerance: 29.813000000000002 \n",
      "[IterativeImputer] Early stopping criterion reached.\n",
      "Age             0\n",
      "RoomService     0\n",
      "FoodCourt       0\n",
      "ShoppingMall    0\n",
      "Spa             0\n",
      "VRDeck          0\n",
      "dtype: int64\n"
     ]
    }
   ],
   "execution_count": 1400
  },
  {
   "metadata": {
    "ExecuteTime": {
     "end_time": "2024-04-19T09:36:47.025716Z",
     "start_time": "2024-04-19T09:36:46.890875Z"
    }
   },
   "cell_type": "code",
   "source": [
    "# Affichage apres imputation par colonne\n",
    "colonne = 'RoomService'\n",
    "\n",
    "indices_modifies = np.where(np.isnan(df_orig[colonne]) & ~np.isnan(df[colonne]))\n",
    "\n",
    "# S'assurer que nous utilisons les indices corrects pour accéder aux valeurs imputées dans df\n",
    "valeurs_imputees = df.iloc[indices_modifies][colonne]\n",
    "\n",
    "# Vérifier si 'valeurs_imputees' contient des données\n",
    "if not valeurs_imputees.empty:\n",
    "    plt.figure(figsize=(8, 6))\n",
    "    n, bins, patches = plt.hist(valeurs_imputees, bins=20, color='red', alpha=0.7, label='Valeurs Imputées')\n",
    "    plt.title('Histogramme des valeurs imputées pour ' + colonne)\n",
    "    plt.xlabel(colonne)\n",
    "    plt.ylabel('Fréquence')\n",
    "    plt.legend()\n",
    "\n",
    "    # Ajouter les annotations sur les barres\n",
    "    for i in range(len(patches)):\n",
    "        plt.annotate(str(int(n[i])), (patches[i].xy[0] + patches[i]._width / 2, n[i] + 1), ha='center')\n",
    "\n",
    "    plt.show()\n",
    "else:\n",
    "    print(\"Aucune valeur imputée à afficher.\")"
   ],
   "id": "6f568a10c7ff162c",
   "outputs": [
    {
     "data": {
      "text/plain": [
       "<Figure size 800x600 with 1 Axes>"
      ],
      "image/png": "[encoded data removed]"
     },
     "metadata": {},
     "output_type": "display_data"
    }
   ],
   "execution_count": 1401
  },
  {
   "metadata": {
    "ExecuteTime": {
     "end_time": "2024-04-19T09:36:47.046995Z",
     "start_time": "2024-04-19T09:36:47.027658Z"
    }
   },
   "cell_type": "code",
   "source": [
    "# Passenger_ID, séparation de la variable en deux variables Groupe_Numero\n",
    "df[['Groupe', 'Numero']] = df['PassengerId'].str.split('_', expand=True)\n",
    "df.drop('PassengerId', axis=1, inplace=True)\n",
    "# print(df.head())"
   ],
   "id": "6b2d4ce4993b357a",
   "outputs": [],
   "execution_count": 1402
  },
  {
   "metadata": {
    "ExecuteTime": {
     "end_time": "2024-04-19T09:36:47.054368Z",
     "start_time": "2024-04-19T09:36:47.048578Z"
    }
   },
   "cell_type": "code",
   "source": [
    "# HomePlanet, OneHotEncoding\n",
    "df['HomePlanet'] = df['HomePlanet'].fillna('Unknown')\n",
    "df = pd.get_dummies(df, columns=['HomePlanet'])\n",
    "# print(df.head())"
   ],
   "id": "f5490f91e764788c",
   "outputs": [],
   "execution_count": 1403
  },
  {
   "metadata": {
    "ExecuteTime": {
     "end_time": "2024-04-19T09:36:47.072445Z",
     "start_time": "2024-04-19T09:36:47.056125Z"
    }
   },
   "cell_type": "code",
   "source": [
    "# Cabin,  séparation de la variable en trois champs : pont/num/côté\n",
    "df['Cabin'] = df['Cabin'].fillna('0/0/0')\n",
    "df[['Pont', 'Num', 'Cote']] = df['Cabin'].str.split('/', expand=True)\n",
    "df.drop('Cabin', axis=1, inplace=True)\n",
    "# print(df.head())"
   ],
   "id": "f261a7a6f8369c77",
   "outputs": [],
   "execution_count": 1404
  },
  {
   "metadata": {
    "ExecuteTime": {
     "end_time": "2024-04-19T09:36:47.085703Z",
     "start_time": "2024-04-19T09:36:47.074155Z"
    }
   },
   "cell_type": "code",
   "source": [
    "# Destination, OneHotEncoding\n",
    "df['Destination'] = df['Destination'].fillna('Unknown')\n",
    "df = pd.get_dummies(df, columns=['Destination'])\n",
    "# print(df.head())"
   ],
   "id": "b8bc88fb06e3dc8a",
   "outputs": [],
   "execution_count": 1405
  },
  {
   "metadata": {
    "ExecuteTime": {
     "end_time": "2024-04-19T09:36:47.101119Z",
     "start_time": "2024-04-19T09:36:47.097066Z"
    }
   },
   "cell_type": "code",
   "source": [
    "# nb_false = (df['CryoSleep'] == False).sum()\n",
    "# nb_true = (df['CryoSleep'] == True).sum()\n",
    "# print(\"Nombre de valeurs False dans 'CryoSleep':\", nb_false)\n",
    "# print(\"Nombre de valeurs True dans 'CrySleep':\", nb_true)\n",
    "\n",
    "# Remplacement des null par False\n",
    "df['CryoSleep'] = df['CryoSleep'].fillna(False)"
   ],
   "id": "d1cd1c1eae132244",
   "outputs": [],
   "execution_count": 1406
  },
  {
   "metadata": {
    "ExecuteTime": {
     "end_time": "2024-04-19T09:36:47.106979Z",
     "start_time": "2024-04-19T09:36:47.103053Z"
    }
   },
   "cell_type": "code",
   "source": [
    "# nb_false = (df['VIP'] == False).sum()\n",
    "# nb_true = (df['VIP'] == True).sum()\n",
    "# print(\"Nombre de valeurs False dans 'VIP':\", nb_false)\n",
    "# print(\"Nombre de valeurs True dans 'VIP':\", nb_true)\n",
    "\n",
    "# Remplacement des null par False\n",
    "df['VIP'] = df['VIP'].fillna(False)"
   ],
   "id": "5308886fa81c877a",
   "outputs": [],
   "execution_count": 1407
  },
  {
   "metadata": {
    "ExecuteTime": {
     "end_time": "2024-04-19T09:36:47.113659Z",
     "start_time": "2024-04-19T09:36:47.108641Z"
    }
   },
   "cell_type": "code",
   "source": [
    "#Suppression de la colonne Name\n",
    "df.drop('Name', axis=1, inplace=True)"
   ],
   "id": "bb308029b4d7434c",
   "outputs": [],
   "execution_count": 1408
  },
  {
   "metadata": {},
   "cell_type": "markdown",
   "source": "## Conversion des types",
   "id": "30ef0c22ed41228c"
  },
  {
   "metadata": {
    "ExecuteTime": {
     "end_time": "2024-04-19T09:36:47.136230Z",
     "start_time": "2024-04-19T09:36:47.114976Z"
    }
   },
   "cell_type": "code",
   "source": [
    "df['CryoSleep'].astype(bool)\n",
    "df['Age'].astype(int)\n",
    "df['VIP'].astype(bool)\n",
    "df['RoomService'].astype(int)\n",
    "df['FoodCourt'].astype(int)\n",
    "df['ShoppingMall'].astype(int)\n",
    "df['Spa'].astype(int)\n",
    "df['VRDeck'].astype(int)\n",
    "df['Transported'].astype(bool)\n",
    "df['Groupe'] = pd.to_numeric(df['Groupe'], errors='coerce')\n",
    "df['Numero'] = pd.to_numeric(df['Numero'], errors='coerce')\n",
    "df['HomePlanet_Earth'].astype(bool)\n",
    "df['HomePlanet_Europa'].astype(bool)\n",
    "df['HomePlanet_Mars'].astype(bool)\n",
    "df['HomePlanet_Unknown'].astype(bool)\n",
    "df['Num'] = pd.to_numeric(df['Num'], errors='coerce')\n",
    "df['Destination_55 Cancri e'].astype(bool)\n",
    "df['Destination_PSO J318.5-22'].astype(bool)\n",
    "df['Destination_TRAPPIST-1e'].astype(bool)\n",
    "df['Destination_Unknown'].astype(bool)\n",
    "\n",
    "# LabelEncoding : Vient attribuer un nombre unique a chaque catgeorie\n",
    "# Création de l'encodeur\n",
    "label_encoder = LabelEncoder()\n",
    "# Fit et transform\n",
    "df['Pont'] = label_encoder.fit_transform(df['Pont'])\n",
    "df['Cote'] = label_encoder.fit_transform(df['Cote'])\n",
    "\n",
    "#Affichage \n",
    "print(df.head())"
   ],
   "id": "5dbc414f1b4b6867",
   "outputs": [
    {
     "name": "stdout",
     "output_type": "stream",
     "text": [
      "   CryoSleep   Age    VIP  RoomService  FoodCourt  ShoppingMall     Spa  \\\n",
      "0      False  39.0  False          0.0        0.0           0.0     0.0   \n",
      "1      False  24.0  False        109.0        9.0          25.0   549.0   \n",
      "2      False  58.0   True         43.0     3576.0           0.0  6715.0   \n",
      "3      False  33.0  False          0.0     1283.0         371.0  3329.0   \n",
      "4      False  16.0  False        303.0       70.0         151.0   565.0   \n",
      "\n",
      "   VRDeck  Transported  Groupe  ...  HomePlanet_Europa  HomePlanet_Mars  \\\n",
      "0     0.0        False       1  ...               True            False   \n",
      "1    44.0         True       2  ...              False            False   \n",
      "2    49.0        False       3  ...               True            False   \n",
      "3   193.0        False       3  ...               True            False   \n",
      "4     2.0         True       4  ...              False            False   \n",
      "\n",
      "   HomePlanet_Unknown  Pont  Num  Cote  Destination_55 Cancri e  \\\n",
      "0               False     2    0     1                    False   \n",
      "1               False     6    0     2                    False   \n",
      "2               False     1    0     2                    False   \n",
      "3               False     1    0     2                    False   \n",
      "4               False     6    1     2                    False   \n",
      "\n",
      "   Destination_PSO J318.5-22  Destination_TRAPPIST-1e  Destination_Unknown  \n",
      "0                      False                     True                False  \n",
      "1                      False                     True                False  \n",
      "2                      False                     True                False  \n",
      "3                      False                     True                False  \n",
      "4                      False                     True                False  \n",
      "\n",
      "[5 rows x 22 columns]\n"
     ]
    }
   ],
   "execution_count": 1409
  },
  {
   "metadata": {
    "ExecuteTime": {
     "end_time": "2024-04-19T09:36:47.160931Z",
     "start_time": "2024-04-19T09:36:47.137101Z"
    }
   },
   "cell_type": "code",
   "source": [
    "# Enregistrement du DataSet dans un csv\n",
    "try:\n",
    "    df.to_csv('data/dataset.csv', index=False)\n",
    "    print(\"Fichier enregistré avec succès.\")\n",
    "except Exception as e:\n",
    "    print(f\"Erreur lors de l'enregistrement du fichier : {e}\")"
   ],
   "id": "2ab76704369ba9b3",
   "outputs": [
    {
     "name": "stdout",
     "output_type": "stream",
     "text": [
      "Fichier enregistré avec succès.\n"
     ]
    }
   ],
   "execution_count": 1410
  },
  {
   "metadata": {
    "ExecuteTime": {
     "end_time": "2024-04-19T09:36:47.163083Z",
     "start_time": "2024-04-19T09:36:47.161657Z"
    }
   },
   "cell_type": "code",
   "source": [
    "# Supprimer les lignes contenant des NaN\n",
    "# df = df.dropna()"
   ],
   "id": "25026c2d5c8604f3",
   "outputs": [],
   "execution_count": 1411
  },
  {
   "metadata": {},
   "cell_type": "markdown",
   "source": "# Entraînement du modèle",
   "id": "810062a016999fd3"
  },
  {
   "metadata": {
    "ExecuteTime": {
     "end_time": "2024-04-19T09:36:47.184585Z",
     "start_time": "2024-04-19T09:36:47.163668Z"
    }
   },
   "cell_type": "code",
   "source": [
    "# Séparation des features et de la cible\n",
    "X = df.drop('Transported', axis=1) \n",
    "y = df['Transported']\n",
    "\n",
    "# Diviser les données en ensemble d'entraînement et de test\n",
    "X_train, X_test, y_train, y_test = train_test_split(X, y, test_size=0.3, random_state=42)\n",
    "\n",
    "# Normalisation des données \n",
    "# Standardisation (Z-score Normalization)\n",
    "scaler = StandardScaler()\n",
    "scaler.fit(X_train)  # Calculer la moyenne et l'écart-type uniquement sur les données d'entraînement\n",
    "\n",
    "X_train = scaler.transform(X_train)  # Transformer les données d'entraînement\n",
    "X_test = scaler.transform(X_test)    # Transformer les données de test avec le même transformateur\n",
    "\n",
    "# Créer une instance du modèle\n",
    "model = LogisticRegression()\n",
    "\n",
    "# Entraîner le modèle\n",
    "model.fit(X_train, y_train)"
   ],
   "id": "ccdcdb83598269ff",
   "outputs": [
    {
     "data": {
      "text/plain": [
       "LogisticRegression()"
      ],
      "text/html": [
       "<style>#sk-container-id-64 {color: black;}#sk-container-id-64 pre{padding: 0;}#sk-container-id-64 div.sk-toggleable {background-color: white;}#sk-container-id-64 label.sk-toggleable__label {cursor: pointer;display: block;width: 100%;margin-bottom: 0;padding: 0.3em;box-sizing: border-box;text-align: center;}#sk-container-id-64 label.sk-toggleable__label-arrow:before {content: \"▸\";float: left;margin-right: 0.25em;color: #696969;}#sk-container-id-64 label.sk-toggleable__label-arrow:hover:before {color: black;}#sk-container-id-64 div.sk-estimator:hover label.sk-toggleable__label-arrow:before {color: black;}#sk-container-id-64 div.sk-toggleable__content {max-height: 0;max-width: 0;overflow: hidden;text-align: left;background-color: #f0f8ff;}#sk-container-id-64 div.sk-toggleable__content pre {margin: 0.2em;color: black;border-radius: 0.25em;background-color: #f0f8ff;}#sk-container-id-64 input.sk-toggleable__control:checked~div.sk-toggleable__content {max-height: 200px;max-width: 100%;overflow: auto;}#sk-container-id-64 input.sk-toggleable__control:checked~label.sk-toggleable__label-arrow:before {content: \"▾\";}#sk-container-id-64 div.sk-estimator input.sk-toggleable__control:checked~label.sk-toggleable__label {background-color: #d4ebff;}#sk-container-id-64 div.sk-label input.sk-toggleable__control:checked~label.sk-toggleable__label {background-color: #d4ebff;}#sk-container-id-64 input.sk-hidden--visually {border: 0;clip: rect(1px 1px 1px 1px);clip: rect(1px, 1px, 1px, 1px);height: 1px;margin: -1px;overflow: hidden;padding: 0;position: absolute;width: 1px;}#sk-container-id-64 div.sk-estimator {font-family: monospace;background-color: #f0f8ff;border: 1px dotted black;border-radius: 0.25em;box-sizing: border-box;margin-bottom: 0.5em;}#sk-container-id-64 div.sk-estimator:hover {background-color: #d4ebff;}#sk-container-id-64 div.sk-parallel-item::after {content: \"\";width: 100%;border-bottom: 1px solid gray;flex-grow: 1;}#sk-container-id-64 div.sk-label:hover label.sk-toggleable__label {background-color: #d4ebff;}#sk-container-id-64 div.sk-serial::before {content: \"\";position: absolute;border-left: 1px solid gray;box-sizing: border-box;top: 0;bottom: 0;left: 50%;z-index: 0;}#sk-container-id-64 div.sk-serial {display: flex;flex-direction: column;align-items: center;background-color: white;padding-right: 0.2em;padding-left: 0.2em;position: relative;}#sk-container-id-64 div.sk-item {position: relative;z-index: 1;}#sk-container-id-64 div.sk-parallel {display: flex;align-items: stretch;justify-content: center;background-color: white;position: relative;}#sk-container-id-64 div.sk-item::before, #sk-container-id-64 div.sk-parallel-item::before {content: \"\";position: absolute;border-left: 1px solid gray;box-sizing: border-box;top: 0;bottom: 0;left: 50%;z-index: -1;}#sk-container-id-64 div.sk-parallel-item {display: flex;flex-direction: column;z-index: 1;position: relative;background-color: white;}#sk-container-id-64 div.sk-parallel-item:first-child::after {align-self: flex-end;width: 50%;}#sk-container-id-64 div.sk-parallel-item:last-child::after {align-self: flex-start;width: 50%;}#sk-container-id-64 div.sk-parallel-item:only-child::after {width: 0;}#sk-container-id-64 div.sk-dashed-wrapped {border: 1px dashed gray;margin: 0 0.4em 0.5em 0.4em;box-sizing: border-box;padding-bottom: 0.4em;background-color: white;}#sk-container-id-64 div.sk-label label {font-family: monospace;font-weight: bold;display: inline-block;line-height: 1.2em;}#sk-container-id-64 div.sk-label-container {text-align: center;}#sk-container-id-64 div.sk-container {/* jupyter's `normalize.less` sets `[hidden] { display: none; }` but bootstrap.min.css set `[hidden] { display: none !important; }` so we also need the `!important` here to be able to override the default hidden behavior on the sphinx rendered scikit-learn.org. See: https://github.com/scikit-learn/scikit-learn/issues/21755 */display: inline-block !important;position: relative;}#sk-container-id-64 div.sk-text-repr-fallback {display: none;}</style><div id=\"sk-container-id-64\" class=\"sk-top-container\"><div class=\"sk-text-repr-fallback\"><pre>LogisticRegression()</pre><b>In a Jupyter environment, please rerun this cell to show the HTML representation or trust the notebook. <br />On GitHub, the HTML representation is unable to render, please try loading this page with nbviewer.org.</b></div><div class=\"sk-container\" hidden><div class=\"sk-item\"><div class=\"sk-estimator sk-toggleable\"><input class=\"sk-toggleable__control sk-hidden--visually\" id=\"sk-estimator-id-64\" type=\"checkbox\" checked><label for=\"sk-estimator-id-64\" class=\"sk-toggleable__label sk-toggleable__label-arrow\">LogisticRegression</label><div class=\"sk-toggleable__content\"><pre>LogisticRegression()</pre></div></div></div></div></div>"
      ]
     },
     "execution_count": 1412,
     "metadata": {},
     "output_type": "execute_result"
    }
   ],
   "execution_count": 1412
  },
  {
   "metadata": {},
   "cell_type": "markdown",
   "source": "# Prédiction et évaluation",
   "id": "7389e92b9ebcf6e"
  },
  {
   "metadata": {
    "ExecuteTime": {
     "end_time": "2024-04-19T09:36:47.247517Z",
     "start_time": "2024-04-19T09:36:47.206876Z"
    }
   },
   "cell_type": "code",
   "source": [
    "from sklearn.metrics import mean_squared_error, mean_absolute_error, r2_score\n",
    "\n",
    "# Prédiction sur l'ensemble de test\n",
    "y_pred = model.predict(X_test)\n",
    "\n",
    "# Calcul de la précision\n",
    "accuracy = accuracy_score(y_test, y_pred)\n",
    "print(f\"Précision: {accuracy}\")\n",
    "\n",
    "# Afficher la matrice de confusion\n",
    "conf_matrix = confusion_matrix(y_test, y_pred)"
   ],
   "id": "34c8b6e115bb7320",
   "outputs": [
    {
     "name": "stdout",
     "output_type": "stream",
     "text": [
      "Précision: 0.776840490797546\n"
     ]
    }
   ],
   "execution_count": 1413
  },
  {
   "metadata": {
    "ExecuteTime": {
     "end_time": "2024-04-19T09:36:47.261865Z",
     "start_time": "2024-04-19T09:36:47.251630Z"
    }
   },
   "cell_type": "code",
   "source": [
    "# Afficher l'importance de chaque variable\n",
    "importance = model.coef_[0]\n",
    "for i, v in enumerate(importance):\n",
    "    print(f'Feature: {X.columns[i]}, Score: {v}')"
   ],
   "id": "8d7f84ec3e306487",
   "outputs": [
    {
     "name": "stdout",
     "output_type": "stream",
     "text": [
      "Feature: CryoSleep, Score: 0.6729707811534461\n",
      "Feature: Age, Score: -0.07631237749760024\n",
      "Feature: VIP, Score: -0.0661623334720743\n",
      "Feature: RoomService, Score: -1.000420441165189\n",
      "Feature: FoodCourt, Score: 0.8505217733291686\n",
      "Feature: ShoppingMall, Score: 0.3731142458449579\n",
      "Feature: Spa, Score: -2.1800555198518556\n",
      "Feature: VRDeck, Score: -2.0688738519308973\n",
      "Feature: Groupe, Score: -0.100771918628675\n",
      "Feature: Numero, Score: 0.05055124275420946\n",
      "Feature: HomePlanet_Earth, Score: -0.37453406364302083\n",
      "Feature: HomePlanet_Europa, Score: 0.5010549378946078\n",
      "Feature: HomePlanet_Mars, Score: -0.06091396249631094\n",
      "Feature: HomePlanet_Unknown, Score: -0.030859862176699514\n",
      "Feature: Pont, Score: -0.31179112676184384\n",
      "Feature: Num, Score: 0.2530953271059244\n",
      "Feature: Cote, Score: 0.3271349708462617\n",
      "Feature: Destination_55 Cancri e, Score: 0.10941337787441674\n",
      "Feature: Destination_PSO J318.5-22, Score: -0.041267429796921495\n",
      "Feature: Destination_TRAPPIST-1e, Score: -0.07688807492556544\n",
      "Feature: Destination_Unknown, Score: 0.024779383337875084\n"
     ]
    }
   ],
   "execution_count": 1414
  },
  {
   "metadata": {},
   "cell_type": "markdown",
   "source": "# Visualisation des résultats",
   "id": "13afcf0901aee7ed"
  },
  {
   "metadata": {
    "ExecuteTime": {
     "end_time": "2024-04-19T09:36:47.332307Z",
     "start_time": "2024-04-19T09:36:47.263482Z"
    }
   },
   "cell_type": "code",
   "source": [
    "plt.figure(figsize=(8, 6))\n",
    "sns.heatmap(conf_matrix, annot=True, fmt=\"d\", cmap=\"Blues\", xticklabels=['No Transported', 'Transported'], yticklabels=['No Transported', 'Transported'])\n",
    "plt.xlabel('Predicted Label')\n",
    "plt.ylabel('True Label')\n",
    "plt.title('Matrice de confusion')\n",
    "plt.show()"
   ],
   "id": "1c7d08346cdba2ad",
   "outputs": [
    {
     "data": {
      "text/plain": [
       "<Figure size 800x600 with 2 Axes>"
      ],
      "image/png": "[encoded data removed]"
     },
     "metadata": {},
     "output_type": "display_data"
    }
   ],
   "execution_count": 1415
  }
 ],
 "metadata": {
  "kernelspec": {
   "display_name": "Python 3",
   "language": "python",
   "name": "python3"
  },
  "language_info": {
   "codemirror_mode": {
    "name": "ipython",
    "version": 2
   },
   "file_extension": ".py",
   "mimetype": "text/x-python",
   "name": "python",
   "nbconvert_exporter": "python",
   "pygments_lexer": "ipython2",
   "version": "2.7.6"
  }
 },
 "nbformat": 4,
 "nbformat_minor": 5
}
